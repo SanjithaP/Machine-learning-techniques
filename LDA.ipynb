{
 "cells": [
  {
   "cell_type": "code",
   "execution_count": 13,
   "id": "8da66d82-2726-4795-a1a8-5fce1a3490bc",
   "metadata": {},
   "outputs": [],
   "source": [
    "import pandas as pd\n",
    "import numpy as np\n",
    "import matplotlib.pyplot as plt\n",
    "from sklearn import datasets\n",
    "import math"
   ]
  },
  {
   "cell_type": "code",
   "execution_count": 15,
   "id": "90836500-b7bd-4cf0-9b20-a685224eaa5a",
   "metadata": {},
   "outputs": [],
   "source": [
    "iris=datasets.load_iris()\n",
    "X=iris.data\n",
    "Y=iris.target\n",
    "label_dict={0:'Setosa', 1:'Versicolor', 2:'Verginica'}"
   ]
  },
  {
   "cell_type": "code",
   "execution_count": 17,
   "id": "28b6a58e-2254-4913-b3c1-92ff7cedc034",
   "metadata": {},
   "outputs": [
    {
     "name": "stdout",
     "output_type": "stream",
     "text": [
      "Mean Vector class 1: [5.006 3.428 1.462 0.246]\n",
      "\n",
      "Mean Vector class 2: [5.936 2.77  4.26  1.326]\n",
      "\n",
      "Mean Vector class 3: [6.588 2.974 5.552 2.026]\n",
      "\n"
     ]
    }
   ],
   "source": [
    "np.set_printoptions(precision=4)\n",
    "mean_vectors=[]\n",
    "for cl in range(0,3):\n",
    "    mean_vectors.append(np.mean(X[Y==cl],axis=0))\n",
    "    print('Mean Vector class %s: %s\\n' %(cl+1,mean_vectors[cl]))"
   ]
  },
  {
   "cell_type": "code",
   "execution_count": 18,
   "id": "e4dec0f2-95d7-4fb5-bea8-a2ca378311bd",
   "metadata": {},
   "outputs": [
    {
     "name": "stdout",
     "output_type": "stream",
     "text": [
      "[[38.9562 13.63   24.6246  5.645 ]\n",
      " [13.63   16.962   8.1208  4.8084]\n",
      " [24.6246  8.1208 27.2226  6.2718]\n",
      " [ 5.645   4.8084  6.2718  6.1566]]\n"
     ]
    }
   ],
   "source": [
    "sw=np.zeros((4,4))\n",
    "for cl,mv in zip(range(0,3),mean_vectors):\n",
    "    class_sc_mat=np.zeros((4,4))\n",
    "    for row in X[Y==cl]:\n",
    "        row,mv=row.reshape(4,1),mv.reshape(4,1)\n",
    "        class_sc_mat+=(row-mv).dot((row-mv).T)\n",
    "    sw+=class_sc_mat\n",
    "print(sw)"
   ]
  },
  {
   "cell_type": "code",
   "execution_count": 20,
   "id": "2b0fcfe9-2123-4573-9db1-30e769d71be7",
   "metadata": {},
   "outputs": [
    {
     "name": "stdout",
     "output_type": "stream",
     "text": [
      "[[ 63.2121 -19.9527 165.2484  71.2793]\n",
      " [-19.9527  11.3449 -57.2396 -22.9327]\n",
      " [165.2484 -57.2396 437.1028 186.774 ]\n",
      " [ 71.2793 -22.9327 186.774   80.4133]]\n"
     ]
    }
   ],
   "source": [
    "overall_mean=np.mean(X,axis=0)\n",
    "sb=np.zeros((4,4))\n",
    "for i,mean_vec in enumerate(mean_vectors):\n",
    "    n=X[Y==i,:].shape[0]\n",
    "    mean_vec=mean_vec.reshape(4,1)\n",
    "    overall_mean=overall_mean.reshape(4,1)\n",
    "    sb+=n*(mean_vec-overall_mean).dot((mean_vec-overall_mean).T)\n",
    "print(sb)"
   ]
  },
  {
   "cell_type": "code",
   "execution_count": 21,
   "id": "bbd586ca-bc38-4d36-8817-47a78cd32a45",
   "metadata": {},
   "outputs": [
    {
     "name": "stdout",
     "output_type": "stream",
     "text": [
      "\n",
      "Eigenvector 1: \n",
      "[[ 0.2087]\n",
      " [ 0.3862]\n",
      " [-0.554 ]\n",
      " [-0.7074]]\n",
      "Eigenvalue 1: 3.22e+01\n",
      "\n",
      "Eigenvector 2: \n",
      "[[-0.0065]\n",
      " [-0.5866]\n",
      " [ 0.2526]\n",
      " [-0.7695]]\n",
      "Eigenvalue 2: 2.85e-01\n",
      "\n",
      "Eigenvector 3: \n",
      "[[ 0.8851]\n",
      " [-0.2946]\n",
      " [-0.2726]\n",
      " [-0.2356]]\n",
      "Eigenvalue 3: 3.53e-15\n",
      "\n",
      "Eigenvector 4: \n",
      "[[-0.8059]\n",
      " [ 0.4043]\n",
      " [ 0.4127]\n",
      " [-0.129 ]]\n",
      "Eigenvalue 4: 3.17e-17\n"
     ]
    }
   ],
   "source": [
    "eigval,eigvec=np.linalg.eig(np.linalg.inv(sw).dot(sb))\n",
    "for i in range(len(eigval)):\n",
    "    eigvec_sc=eigvec[:,i].reshape(4,1)\n",
    "    print('\\nEigenvector {}: \\n{}'.format(i+1 , eigvec_sc.real))\n",
    "    print('Eigenvalue {:}: {:.2e}'.format(i+1 , eigval[i].real))"
   ]
  },
  {
   "cell_type": "code",
   "execution_count": 24,
   "id": "9d509e50-cfa2-458c-9d6c-35615d77000a",
   "metadata": {},
   "outputs": [
    {
     "name": "stdout",
     "output_type": "stream",
     "text": [
      "OK\n"
     ]
    }
   ],
   "source": [
    "for i in range(len(eigval)):\n",
    "    eigv=eigvec[:,i].reshape(4,1)\n",
    "    np.testing.assert_array_almost_equal(np.linalg.inv(sw).dot(sb).dot(eigv),eigval[i]*eigv,decimal=6,err_msg=\"\",verbose=True)\n",
    "print('OK')"
   ]
  },
  {
   "cell_type": "code",
   "execution_count": 26,
   "id": "5ef837fd-fca3-42ac-9286-98e0bb9d1d70",
   "metadata": {},
   "outputs": [
    {
     "name": "stdout",
     "output_type": "stream",
     "text": [
      "Eigenvalues in decreasing order : \n",
      "\n",
      "32.19192919827803\n",
      "0.28539104262306414\n",
      "3.5296362660244315e-15\n",
      "3.17116800810927e-17\n"
     ]
    }
   ],
   "source": [
    "eigen_pairs=[(np.abs(eigval[i]),eigvec[:,i]) for i in range(len(eigval))]\n",
    "eigen_pairs=sorted(eigen_pairs, key=lambda k: k[0], reverse=True)\n",
    "print(\"Eigenvalues in decreasing order : \\n\")\n",
    "for i in eigen_pairs:\n",
    "    print(i[0])\n"
   ]
  },
  {
   "cell_type": "code",
   "execution_count": 27,
   "id": "7304a4a1-32e7-42a8-bfd7-8f2a3b50ae55",
   "metadata": {},
   "outputs": [
    {
     "name": "stdout",
     "output_type": "stream",
     "text": [
      "Variance Explained : \n",
      "\n",
      "Eigenvalue 1:  99.12%\n",
      "Eigenvalue 2:  0.88%\n",
      "Eigenvalue 3:  0.00%\n",
      "Eigenvalue 4:  0.00%\n"
     ]
    }
   ],
   "source": [
    "print(\"Variance Explained : \\n\")\n",
    "eig_sum=sum(eigval)\n",
    "for i,j in enumerate(eigen_pairs):\n",
    "    print(\"Eigenvalue {0:}: {1: .2%}\".format(i+1,(j[0]/eig_sum).real))"
   ]
  },
  {
   "cell_type": "code",
   "execution_count": 28,
   "id": "72d3ba6a-fb6e-4cbf-bb88-f4f15d951d89",
   "metadata": {},
   "outputs": [
    {
     "name": "stdout",
     "output_type": "stream",
     "text": [
      "Matrix w: \n",
      " [[ 0.2087 -0.0065]\n",
      " [ 0.3862 -0.5866]\n",
      " [-0.554   0.2526]\n",
      " [-0.7074 -0.7695]]\n"
     ]
    }
   ],
   "source": [
    "w=np.hstack((eigen_pairs[0][1].reshape(4,1), eigen_pairs[1][1].reshape(4,1)))\n",
    "print(\"Matrix w: \\n\", w.real)"
   ]
  },
  {
   "cell_type": "code",
   "execution_count": 30,
   "id": "5fc7a967-bc51-4eec-b05b-783e9d69bd97",
   "metadata": {},
   "outputs": [],
   "source": [
    "x_lda=X.dot(w)\n",
    "assert x_lda.shape==(150,2), \"The matrix is not 150x2 dimensional\""
   ]
  },
  {
   "cell_type": "code",
   "execution_count": 33,
   "id": "8a9826a5-1b42-4d61-b3d9-be2f42598f94",
   "metadata": {},
   "outputs": [
    {
     "data": {
      "image/png": "[encoded data removed]",
      "text/plain": [
       "<Figure size 640x480 with 1 Axes>"
      ]
     },
     "metadata": {},
     "output_type": "display_data"
    }
   ],
   "source": [
    "def plot_step_lda():\n",
    "    ax=plt.subplot(111)\n",
    "    for label, marker, color in zip(range(0,3),('^','s','o'),('blue','red','green')):\n",
    "        plt.scatter(x=x_lda[:,0].real[Y==label],y=x_lda[:,1].real[Y==label],marker=marker,color=color,alpha=0.5,label=label_dict[label])\n",
    "    plt.xlabel('LD1')\n",
    "    plt.ylabel('LD2')\n",
    "    leg=plt.legend(loc='upper left', fancybox=True)\n",
    "    leg.get_frame().set_alpha(0.5)\n",
    "    plt.title(\"LDA : Iris projection onto the first 2 linear discriminants\")\n",
    "    plt.tick_params(axis='both', which='both', bottom='off', top='off', labelbottom='on',left='off',right='off',labelleft='on')\n",
    "    ax.spines['top'].set_visible(False)\n",
    "    ax.spines['right'].set_visible(False)\n",
    "    ax.spines['bottom'].set_visible(False)\n",
    "    ax.spines['left'].set_visible(False)\n",
    "    plt.grid()\n",
    "    plt.tight_layout\n",
    "    plt.show()\n",
    "\n",
    "plot_step_lda()"
   ]
  },
  {
   "cell_type": "code",
   "execution_count": null,
   "id": "429a6aba-35d3-4610-a4ad-729fef5126e8",
   "metadata": {},
   "outputs": [],
   "source": []
  }
 ],
 "metadata": {
  "kernelspec": {
   "display_name": "Python 3 (ipykernel)",
   "language": "python",
   "name": "python3"
  },
  "language_info": {
   "codemirror_mode": {
    "name": "ipython",
    "version": 3
   },
   "file_extension": ".py",
   "mimetype": "text/x-python",
   "name": "python",
   "nbconvert_exporter": "python",
   "pygments_lexer": "ipython3",
   "version": "3.10.5"
  }
 },
 "nbformat": 4,
 "nbformat_minor": 5
}
